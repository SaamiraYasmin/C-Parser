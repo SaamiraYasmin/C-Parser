{
  "nbformat": 4,
  "nbformat_minor": 0,
  "metadata": {
    "colab": {
      "name": "NLP_Proj_P08_Grp_25.ipynb",
      "provenance": []
    },
    "kernelspec": {
      "name": "python3",
      "display_name": "Python 3"
    },
    "language_info": {
      "name": "python"
    }
  },
  "cells": [
    {
      "cell_type": "code",
      "metadata": {
        "id": "o1CjQZYmfWEp",
        "colab": {
          "base_uri": "https://localhost:8080/"
        },
        "outputId": "1a9e322d-dc16-496c-9a81-e3eec09cf160"
      },
      "source": [
        "# mounting Gdrive\n",
        "from google.colab import drive\n",
        "drive.mount('/content/drive')"
      ],
      "execution_count": 5,
      "outputs": [
        {
          "output_type": "stream",
          "name": "stdout",
          "text": [
            "Drive already mounted at /content/drive; to attempt to forcibly remount, call drive.mount(\"/content/drive\", force_remount=True).\n"
          ]
        }
      ]
    },
    {
      "cell_type": "code",
      "metadata": {
        "id": "JpAGkZH03WXF"
      },
      "source": [
        "# LEXING IMPLEMENTATION FROM SCRATCH \n",
        "\n",
        "code='''#include <stdio.h>\n",
        "int main()\n",
        "{\n",
        "    printf(\"Hello World\");\n",
        "    return 0;\n",
        "}'''\n",
        "\n",
        "import re\n",
        "\n",
        "def is_string(txt):\n",
        "  txt=txt.strip()\n",
        "  x=re.search(r\"\\\".*\\n*\\\"\",txt)\n",
        "  if x:\n",
        "    return 1\n",
        "  else :\n",
        "    return 0\n",
        "\n",
        "\n",
        "tokens=[]\n",
        "delm=['\\n',',',';','(',')','{','}','<','>','#','=','+','-','*','/']\n",
        "a=''\n",
        "count=0\n",
        "for ch in code:\n",
        "  if ch=='\\\"' :\n",
        "    count=count+1\n",
        "    a+=ch\n",
        "    continue\n",
        "  if count==1:\n",
        "    a+=ch\n",
        "    continue\n",
        "  elif count==2:\n",
        "    tokens.append(a)\n",
        "    a=''\n",
        "    count=0\n",
        "  if ch in delm:\n",
        "    if len(a)!=0 :\n",
        "      tokens.append(a)\n",
        "    if ch!='\\n':\n",
        "      tokens.append(ch)\n",
        "    a=''\n",
        "    continue\n",
        "  a=a+ch\n",
        "tokens\n",
        "\n",
        "final_tokens=[]\n",
        "for i in range(len(tokens)):\n",
        "  if (not(is_string(tokens[i]))):\n",
        "    x=tokens[i].strip().split()\n",
        "  else :\n",
        "    final_tokens.append(tokens[i].strip())\n",
        "    continue\n",
        "  final_tokens.extend(x)\n",
        "final_tokens\n",
        "\n",
        "def is_num(txt):\n",
        "  txt=txt.strip()\n",
        "  x=re.search(r'\\d+\\.?\\d*',txt)\n",
        "  if x:\n",
        "    return 1\n",
        "  else :\n",
        "    return 0\n",
        "\n",
        "def is_header(txt):\n",
        "  txt=txt.strip()\n",
        "  x=re.search(r'\\w*.?h',txt)\n",
        "  if x:\n",
        "    return 1\n",
        "  else :\n",
        "    return 0\n",
        "\n",
        "def is_var(txt):\n",
        "  txt=txt.strip()\n",
        "  x=re.search(r'[a-zA-Z]\\w*',txt)\n",
        "  if x:\n",
        "    return 1\n",
        "  else :\n",
        "    return 0\n",
        "def delim(txt):\n",
        "  txt=txt.strip()\n",
        "  dlm=['\\n',',',';','(',')','{','}','<','>','#']\n",
        "  if txt in dlm :\n",
        "    return 1\n",
        "  else :\n",
        "    return 0\n",
        "\n",
        "Terminals ={\n",
        "    'hash_tag':['#'],\n",
        "    'hash_words':['include','define'],\n",
        "    \"header\":[\"stdio.h\",\"conio.h\",\"malloc.h\",\"process.h\",\"string.h\",\"ctype.h\"],\n",
        "    \"delimitor\":['\\n',',',';','(',')','{','}','<','>'],\n",
        "    \"type_spec\":['int','void','char','float'],\n",
        "    \"Prnt_smt\":['printf'],\n",
        "    \"scn_smt\":['scanf'],\n",
        "    \"operators\":['+','-','*','/'],\n",
        "    \"equal_exp\":['='],\n",
        "    \"comparitors\":[\">\",'<','>=','<=','=='],\n",
        "    'jump_smt':['return','continue','break'],\n",
        "}\n",
        "\n",
        "\n",
        "r=0\n",
        "for i in range(len(final_tokens)):\n",
        "  tok=final_tokens[i]\n",
        "  for item in Terminals:\n",
        "    if tok in Terminals[item]:\n",
        "      final_tokens[i]=[tok,item]\n",
        "      r=1\n",
        "      break\n",
        "  if r==1 :\n",
        "    r=0\n",
        "    continue\n",
        "  #print(tok)\n",
        "  if is_string(tok):\n",
        "    final_tokens[i]=[tok,\"string\"]\n",
        "  elif is_header(tok):\n",
        "    final_tokens[i]=[tok,\"header\"]\n",
        "  elif is_num(tok):\n",
        "    final_tokens[i]=[tok,\"num\"]\n",
        "  elif is_var(tok):\n",
        "    final_tokens[i]=[tok,\"ID_var\"]\n",
        "  else :\n",
        "    final_tokens[i]=[tok,\"NONE\"]\n",
        "\n",
        "final_tokens "
      ],
      "execution_count": null,
      "outputs": []
    },
    {
      "cell_type": "markdown",
      "metadata": {
        "id": "XBAIc07OE58Z"
      },
      "source": [
        "## 10 complex codes which can be parsed / handeled by our parser with the specified grammer\n",
        " "
      ]
    },
    {
      "cell_type": "code",
      "metadata": {
        "id": "SYl68JGIL5ZE"
      },
      "source": [
        "code[1]='''\n",
        "#include <stdio.h>\n",
        "\n",
        "//NLP_PROJECT_GRP25_RISHI_SAAMIRA_NAMAN\n",
        "\n",
        "#define myGlobalInt 1\n",
        "int main() {\n",
        "    printf(\"Hello world\");\n",
        "    \n",
        "    return 0;\n",
        "}\n",
        "\n",
        "'''"
      ],
      "execution_count": 33,
      "outputs": []
    },
    {
      "cell_type": "code",
      "metadata": {
        "id": "dfp3zfjnL9j3"
      },
      "source": [
        "code[2]='''\n",
        "#include <stdio.h>\n",
        "int main() {\n",
        "    int number1, number2;\n",
        "    printf(\"Enter two integers: \");\n",
        "    scanf(\"%d %d\", &number1, &number2);\n",
        "\n",
        "    if(number1 == number2) {\n",
        "        printf(\"Result: %d = %d\",number1,number2);\n",
        "    }\n",
        "\n",
        "    else if (number1 > number2) {\n",
        "        printf(\"Result: %d > %d\", number1, number2);\n",
        "    }\n",
        "\n",
        "    else {\n",
        "        printf(\"Result: %d < %d\",number1, number2);\n",
        "    }\n",
        "\n",
        "    return 0;\n",
        "}\n",
        "\n",
        "'''"
      ],
      "execution_count": 29,
      "outputs": []
    },
    {
      "cell_type": "code",
      "metadata": {
        "id": "kvQcvoVAMIzt"
      },
      "source": [
        "code[3]='''\n",
        "#include <stdio.h>\n",
        " \n",
        "int max(int num1, int num2) {\n",
        "   int result;\n",
        "   if (num1 > num2)\n",
        "      {\n",
        "      result = num1;\n",
        "      }\n",
        "   else{\n",
        "      result = num2;\n",
        "      }\n",
        "   return result; \n",
        "}\n",
        " \n",
        "int main () {\n",
        "   int c[100][300];\n",
        "   int a = 100;\n",
        "   int b = 200;\n",
        "   int ret;\n",
        "   ret = max(a,b);\n",
        "   printf( \"Max value is : %d\\n\", ret );\n",
        "   return 0;\n",
        "}\n",
        "\n",
        "'''"
      ],
      "execution_count": 46,
      "outputs": []
    },
    {
      "cell_type": "code",
      "metadata": {
        "id": "9mYLJ3fDUiPX"
      },
      "source": [
        "code[4]='''\n",
        "#include <stdio.h>\n",
        "\n",
        "int main()\n",
        "{\n",
        "   int a=2, b=5;\n",
        "   if(a<b &&  b==1)\n",
        "   {\n",
        "       printf(\"condition is satisfied\\n\");\n",
        "   }\n",
        "     else{\n",
        "       printf(\"condition not satisfied\\n\");\n",
        "   }\n",
        "\n",
        "    return 0;\n",
        "}\n",
        "\n",
        "'''"
      ],
      "execution_count": 54,
      "outputs": []
    },
    {
      "cell_type": "code",
      "metadata": {
        "id": "BYYg5VVjU5C9"
      },
      "source": [
        "code[5]='''\n",
        "#include <stdio.h>\n",
        "\n",
        "int main()\n",
        "{\n",
        "   int roll;\n",
        "   printf(\"enter roll number\\n\");\n",
        "   scanf(\"%d\", &roll);\n",
        "   switch(roll)\n",
        "   {\n",
        "       case 1:\n",
        "       printf(\"you are allotted section A\");\n",
        "       break;\n",
        "       case 2:\n",
        "       printf(\"you are allotted section B\");\n",
        "       break;\n",
        "       default:\n",
        "       printf(\"you are allotted section C\");\n",
        "       break;\n",
        "   }\n",
        "\n",
        "    return 0;\n",
        "}\n",
        "\n",
        "'''"
      ],
      "execution_count": 58,
      "outputs": []
    },
    {
      "cell_type": "code",
      "metadata": {
        "id": "T5UTbNKuVKdl"
      },
      "source": [
        "code[6]='''\n",
        "#include <stdio.h>\n",
        "\n",
        "int main()\n",
        "{\n",
        "   for(int i=1; i<=3; i++)\n",
        "   {\n",
        "       for(int j=1; j<=i; j++)\n",
        "       {\n",
        "printf(\"*\");\n",
        "}\n",
        "       \n",
        "       printf(\"\\n\");\n",
        "   }\n",
        "    return 0;\n",
        "}\n",
        "\n",
        "'''"
      ],
      "execution_count": 37,
      "outputs": []
    },
    {
      "cell_type": "code",
      "metadata": {
        "id": "CvCQCz5P262Z"
      },
      "source": [
        "code[7]='''\n",
        "#include<stdio.h>\n",
        "#include<conio.h>\n",
        "#include<string.h>\n",
        "\n",
        "int main()\n",
        "{\n",
        "  int a,b,c=0,d=10;\n",
        "  a=1;\n",
        "  b=12;\n",
        "  while( a+b>20 || c+d<0)\n",
        "  {\n",
        "    a++;--b;\n",
        "    c-=2;\n",
        "    d*=a;\n",
        "  }\n",
        "  return 0;\n",
        "}\n",
        "'''\n",
        "\n",
        "\n"
      ],
      "execution_count": 1,
      "outputs": []
    },
    {
      "cell_type": "code",
      "metadata": {
        "id": "-gEmaLwLv0f7"
      },
      "source": [
        "code[8]='''\n",
        "#include<stdio.h>\n",
        "#include<string.h>\n",
        "#define a 5\n",
        " \n",
        "int reminder(int b)\n",
        "{\n",
        "  int c=1;\n",
        "  return a%b+c ;\n",
        "}\n",
        "\n",
        "int main()\n",
        "{\n",
        "  int b=10;\n",
        "  do\n",
        "  {\n",
        "    printf(\"reminder is : %d\",reminder(b));\n",
        "    b--;\n",
        "  }while(b>0);\n",
        "  return 0;\n",
        "}\n",
        "\n",
        "'''"
      ],
      "execution_count": null,
      "outputs": []
    },
    {
      "cell_type": "code",
      "metadata": {
        "id": "3tRvL6hx6mx7"
      },
      "source": [
        "code[9]='''\n",
        "#include<stdio.h>\n",
        "#include<string.h>\n",
        "#define a 5\n",
        "\n",
        "struct car\n",
        "{\n",
        "  bool tank_full;\n",
        "  bool tyres;\n",
        "  float speed;\n",
        "};\n",
        "\n",
        "int main()\n",
        "{\n",
        "  struct car merc;\n",
        "  merc.tank_full=1;\n",
        "  merc.tyres=1;\n",
        "  merc.speed=300;\n",
        "  int a=merc.tank_full,b=merc.tyres;\n",
        "  float c=merc.speed;\n",
        "  if(a==1 && b==1 && c>100.0)\n",
        "  {\n",
        "    printf(\"car is fine\");\n",
        "  }\n",
        "  return 0;\n",
        "}\n",
        "\n",
        "'''"
      ],
      "execution_count": 9,
      "outputs": []
    },
    {
      "cell_type": "code",
      "metadata": {
        "id": "-aQeBrsRdQGi"
      },
      "source": [
        "code[10]='''#include<stdio.h>\n",
        "#include<string.h>\n",
        "#define a 5\n",
        " \n",
        "struct grades\n",
        "{\n",
        "  float marks;\n",
        "  int rank;\n",
        "  char grade;\n",
        "};\n",
        " \n",
        "void comp( int a,int b){\n",
        "    \n",
        "    if (a > b) {\n",
        "        printf(\"A is greater than B\");\n",
        "    }\n",
        "    else{\n",
        "        printf(\"B is greater than A\");\n",
        "    }\n",
        "}\n",
        " \n",
        "int main()\n",
        "{\n",
        "  \n",
        "  int n=100,m=100,t;\n",
        "  printf(\"Enter the value of t:\");\n",
        "  scanf(\"%d\",&t);\n",
        "  for(int i=0;i<n;i++){\n",
        "    printf(\"efrg\");\n",
        "    for(int j=100;j>=n;j--){\n",
        "          int x =  j/2;\n",
        "          int k = 0;\n",
        "          \n",
        "          while(j >=x || i <=x){\n",
        "              k++;\n",
        "              if(k>i || k<j){\n",
        "                  t++;\n",
        "              }\n",
        "              \n",
        "              else if(k <i || j>k){\n",
        "                  --t;\n",
        "              }\n",
        "              \n",
        "              else {\n",
        "                  t=0;\n",
        "              }\n",
        "          }\n",
        " \n",
        "      }\n",
        "   \n",
        "      \n",
        "  }\n",
        "  printf(\"The Final values of t is %d\",t);\n",
        "  int roll;\n",
        "  printf(\"enter roll number\\n\");\n",
        "  scanf(\"%d\", &roll);\n",
        "  switch(roll)\n",
        "  {\n",
        "      case 1:\n",
        "      printf(\"you are allotted section A\");\n",
        "      break;\n",
        "      case 2:\n",
        "      printf(\"you are allotted section B\");\n",
        "      break;\n",
        "      default:\n",
        "      printf(\"you are allotted section C\");\n",
        "      break;\n",
        "  }\n",
        " \n",
        "  return 0;\n",
        "}\n",
        "\n",
        "\n",
        "'''"
      ],
      "execution_count": 5,
      "outputs": []
    },
    {
      "cell_type": "code",
      "metadata": {
        "id": "Wa2d-octqNJn"
      },
      "source": [
        "code='''\n",
        "#include <stdio.h>\n",
        "\n",
        "int max(int num1; int num2) {\n",
        "   int result;\n",
        " \n",
        "   if (num1 > num2)\n",
        "      result = num1;\n",
        "   else\n",
        "      result = num2;\n",
        " \n",
        "   return \n",
        "}\n",
        " \n",
        "int main () {\n",
        "   int c[100][300;\n",
        "   int a = 100;\n",
        "   int b = 200;\n",
        "   int ret;\n",
        " \n",
        "   ret = max(a,b);\n",
        " \n",
        "   printf( \"Max value is : %d\\n\", ret );\n",
        " \n",
        "   return 0;\n",
        "}\n",
        "\n",
        "\n",
        "'''"
      ],
      "execution_count": 9,
      "outputs": []
    },
    {
      "cell_type": "markdown",
      "metadata": {
        "id": "Fhxc4bZCHxKo"
      },
      "source": [
        "## Installing ply module"
      ]
    },
    {
      "cell_type": "code",
      "metadata": {
        "colab": {
          "base_uri": "https://localhost:8080/"
        },
        "id": "15CCQFQAXwFu",
        "outputId": "c9fff1bd-2aef-4e33-c5e6-612726826767"
      },
      "source": [
        "#installing the ply module \n",
        "#use pip.3 install if this sint working\n",
        "pip install ply"
      ],
      "execution_count": 10,
      "outputs": [
        {
          "output_type": "stream",
          "name": "stdout",
          "text": [
            "Requirement already satisfied: ply in /usr/local/lib/python3.7/dist-packages (3.11)\n"
          ]
        }
      ]
    },
    {
      "cell_type": "markdown",
      "metadata": {
        "id": "rbUyJJ-QGYTS"
      },
      "source": [
        "# Importing 'lexer' model from lexing.py file"
      ]
    },
    {
      "cell_type": "code",
      "metadata": {
        "id": "8kU7D7DjXmZI"
      },
      "source": [
        "#Importing the lexer model from the lexing.py file \n",
        "#i used google drive to store the lexing.py file, so imported from drive \n",
        "#make changes according to your desired lexing.py location\n",
        "\n",
        "from drive.MyDrive.NLP_Colab_notebooks.NLP_Project_Clang_parser.lexing import lexer\n",
        "\n",
        "\n",
        "# Give the lexer some input\n",
        "#input the code in string format as shown in previous code snipets\n",
        "lexer.input(code) \n",
        "\n",
        "# Tokenize and priting the terminal tokens of the code below\n",
        "while True:\n",
        "    tok = lexer.token()\n",
        "    if not tok: \n",
        "        break      # No more input\n",
        "    print(tok)"
      ],
      "execution_count": null,
      "outputs": []
    },
    {
      "cell_type": "markdown",
      "metadata": {
        "id": "NRRStvUFGpHz"
      },
      "source": [
        "# Importing 'parser' model from parsing.py file"
      ]
    },
    {
      "cell_type": "code",
      "metadata": {
        "colab": {
          "base_uri": "https://localhost:8080/"
        },
        "id": "sNEC_Cn41939",
        "outputId": "e227a80e-a6fb-48bf-99cb-1884d382a3b2"
      },
      "source": [
        "#Importing the parser model from the parsing.py file \n",
        "#i used google drive to store the parsing.py file, so imported from there \n",
        "#make changes according to your desired parsing.py location\n",
        "\n",
        "from drive.MyDrive.NLP_Colab_notebooks.NLP_Project_Clang_parser.parsing import parser\n",
        "import profile \n",
        "\n",
        "print(parser.parse(code))\n",
        "#profile.run(\"yacc.yacc(method='LALR')\")\n",
        "\n",
        "\n"
      ],
      "execution_count": 12,
      "outputs": [
        {
          "output_type": "stream",
          "name": "stdout",
          "text": [
            "Syntax error in input!\n",
            "Syntax error in input!\n",
            "None\n"
          ]
        }
      ]
    },
    {
      "cell_type": "code",
      "metadata": {
        "id": "bw_cx4OOHKFA"
      },
      "source": [
        ""
      ],
      "execution_count": null,
      "outputs": []
    }
  ]
}